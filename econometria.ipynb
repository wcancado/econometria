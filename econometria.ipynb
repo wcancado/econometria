{
  "nbformat": 4,
  "nbformat_minor": 0,
  "metadata": {
    "colab": {
      "name": "econometria.ipynb",
      "provenance": [],
      "collapsed_sections": [],
      "include_colab_link": true
    },
    "kernelspec": {
      "name": "python3",
      "display_name": "Python 3"
    }
  },
  "cells": [
    {
      "cell_type": "markdown",
      "metadata": {
        "id": "view-in-github",
        "colab_type": "text"
      },
      "source": [
        "<a href=\"https://colab.research.google.com/github/wcancado/econometria/blob/master/econometria.ipynb\" target=\"_parent\"><img src=\"https://colab.research.google.com/assets/colab-badge.svg\" alt=\"Open In Colab\"/></a>"
      ]
    },
    {
      "cell_type": "markdown",
      "metadata": {
        "id": "SYVurzvsMQPR",
        "colab_type": "text"
      },
      "source": [
        "Estudo de econometria, importando pandas e tranformando planilha em dataframe para sequencia de estudo\n",
        "\n",
        "Dados no github"
      ]
    },
    {
      "cell_type": "code",
      "metadata": {
        "id": "zg136i2OMOrx",
        "colab_type": "code",
        "outputId": "872169f5-e1c8-49c0-e510-4c75ca27f184",
        "colab": {
          "base_uri": "https://localhost:8080/",
          "height": 194
        }
      },
      "source": [
        "import pandas as pd\n",
        "xlsx = pd.ExcelFile('alirenda.xlsx')\n",
        "df=pd.read_excel(xlsx)\n",
        "df.head()"
      ],
      "execution_count": 48,
      "outputs": [
        {
          "output_type": "execute_result",
          "data": {
            "text/html": [
              "<div>\n",
              "<style scoped>\n",
              "    .dataframe tbody tr th:only-of-type {\n",
              "        vertical-align: middle;\n",
              "    }\n",
              "\n",
              "    .dataframe tbody tr th {\n",
              "        vertical-align: top;\n",
              "    }\n",
              "\n",
              "    .dataframe thead th {\n",
              "        text-align: right;\n",
              "    }\n",
              "</style>\n",
              "<table border=\"1\" class=\"dataframe\">\n",
              "  <thead>\n",
              "    <tr style=\"text-align: right;\">\n",
              "      <th></th>\n",
              "      <th>obs</th>\n",
              "      <th>YT</th>\n",
              "      <th>XT</th>\n",
              "    </tr>\n",
              "  </thead>\n",
              "  <tbody>\n",
              "    <tr>\n",
              "      <th>0</th>\n",
              "      <td>1</td>\n",
              "      <td>52.25</td>\n",
              "      <td>258.3</td>\n",
              "    </tr>\n",
              "    <tr>\n",
              "      <th>1</th>\n",
              "      <td>2</td>\n",
              "      <td>58.32</td>\n",
              "      <td>343.1</td>\n",
              "    </tr>\n",
              "    <tr>\n",
              "      <th>2</th>\n",
              "      <td>3</td>\n",
              "      <td>81.79</td>\n",
              "      <td>425.0</td>\n",
              "    </tr>\n",
              "    <tr>\n",
              "      <th>3</th>\n",
              "      <td>4</td>\n",
              "      <td>119.90</td>\n",
              "      <td>467.5</td>\n",
              "    </tr>\n",
              "    <tr>\n",
              "      <th>4</th>\n",
              "      <td>5</td>\n",
              "      <td>125.80</td>\n",
              "      <td>482.9</td>\n",
              "    </tr>\n",
              "  </tbody>\n",
              "</table>\n",
              "</div>"
            ],
            "text/plain": [
              "   obs      YT     XT\n",
              "0    1   52.25  258.3\n",
              "1    2   58.32  343.1\n",
              "2    3   81.79  425.0\n",
              "3    4  119.90  467.5\n",
              "4    5  125.80  482.9"
            ]
          },
          "metadata": {
            "tags": []
          },
          "execution_count": 48
        }
      ]
    },
    {
      "cell_type": "markdown",
      "metadata": {
        "id": "-p0A_t1BUJJB",
        "colab_type": "text"
      },
      "source": [
        "criando função de Covariancia entre x e y"
      ]
    },
    {
      "cell_type": "code",
      "metadata": {
        "id": "U--E3Yo8UQqG",
        "colab_type": "code",
        "outputId": "14a37afc-ed87-4d85-c24f-20d514020e52",
        "colab": {
          "base_uri": "https://localhost:8080/",
          "height": 204
        }
      },
      "source": [
        "mqd = df['YT'].sum()/df['XT'].count()\n",
        "\n",
        "mp = df['YT'].sum()/df['YT'].count()\n"
      ],
      "execution_count": 53,
      "outputs": [
        {
          "output_type": "error",
          "ename": "TypeError",
          "evalue": "ignored",
          "traceback": [
            "\u001b[0;31m---------------------------------------------------------------------------\u001b[0m",
            "\u001b[0;31mTypeError\u001b[0m                                 Traceback (most recent call last)",
            "\u001b[0;32m<ipython-input-53-d1f50d65cebc>\u001b[0m in \u001b[0;36m<module>\u001b[0;34m()\u001b[0m\n\u001b[1;32m      2\u001b[0m \u001b[0;34m\u001b[0m\u001b[0m\n\u001b[1;32m      3\u001b[0m \u001b[0mmp\u001b[0m \u001b[0;34m=\u001b[0m \u001b[0mdf\u001b[0m\u001b[0;34m[\u001b[0m\u001b[0;34m'YT'\u001b[0m\u001b[0;34m]\u001b[0m\u001b[0;34m.\u001b[0m\u001b[0msum\u001b[0m\u001b[0;34m(\u001b[0m\u001b[0;34m)\u001b[0m\u001b[0;34m/\u001b[0m\u001b[0mdf\u001b[0m\u001b[0;34m[\u001b[0m\u001b[0;34m'YT'\u001b[0m\u001b[0;34m]\u001b[0m\u001b[0;34m.\u001b[0m\u001b[0mcount\u001b[0m\u001b[0;34m(\u001b[0m\u001b[0;34m)\u001b[0m\u001b[0;34m\u001b[0m\u001b[0;34m\u001b[0m\u001b[0m\n\u001b[0;32m----> 4\u001b[0;31m \u001b[0mprint\u001b[0m \u001b[0;34m(\u001b[0m\u001b[0mmp\u001b[0m\u001b[0;34m)\u001b[0m\u001b[0;34m\u001b[0m\u001b[0;34m\u001b[0m\u001b[0m\n\u001b[0m",
            "\u001b[0;31mTypeError\u001b[0m: 'numpy.ndarray' object is not callable"
          ]
        }
      ]
    },
    {
      "cell_type": "code",
      "metadata": {
        "id": "2gxo8WDYVgyW",
        "colab_type": "code",
        "colab": {}
      },
      "source": [
        "def covariancia(x,y):\n",
        "  mex = x.sum()/x.count()\n",
        "  mey = y.sum()/y.count()\n",
        "  mxy=(x-mex)*(y-mey)\n",
        "  return mxy.sum()/x.count()\n",
        "covariancia(df['XT'],df['YT'])\n"
      ],
      "execution_count": 0,
      "outputs": []
    },
    {
      "cell_type": "markdown",
      "metadata": {
        "id": "Wy2bHGWkbvsh",
        "colab_type": "text"
      },
      "source": [
        "Criando função de estimadores mmq (b1 b2) usando nova tabela de teste"
      ]
    },
    {
      "cell_type": "code",
      "metadata": {
        "id": "zZ6PU9YAb0mE",
        "colab_type": "code",
        "colab": {}
      },
      "source": [
        "xlsxb = pd.ExcelFile('alirenda.xlsx')\n",
        "df=pd.read_excel(xlsxb)\n",
        "df.head()\n",
        "\n",
        "def estimadores (x,y):\n",
        "  n=x.count()\n",
        "  sxy = x*y\n",
        "  quadx=x*x\n",
        "  bdois = (n*sxy.sum()-x.sum()*y.sum())/(n*quadx.sum()-x.sum()**2)\n",
        "  bum = y.sum()/n - bdois*(x.sum()/n)\n",
        "  return bum, bdois\n",
        "estimadores(df['XT'],df['YT'])"
      ],
      "execution_count": 0,
      "outputs": []
    },
    {
      "cell_type": "markdown",
      "metadata": {
        "id": "rtFRsME2vYUV",
        "colab_type": "text"
      },
      "source": [
        "Calculando a elasticidade da E(y) = despesa media em relação a x= renda media\n",
        "a fórmula da elasticidade é dado por:bdois.x/E(y)"
      ]
    },
    {
      "cell_type": "code",
      "metadata": {
        "id": "2CVsGZPPxTqd",
        "colab_type": "code",
        "colab": {}
      },
      "source": [
        "def elasticidade (x,y,px):# nesse caso o x e y são as váriaveis de x e y e px o valor para qual se quer achar a elasticidade\n",
        "  bs= estimadores(x,y)\n",
        "  elaxy= bs[1]*(px/y.mean())\n",
        "  return elaxy\n",
        "elasticidade(df['XT'],df['YT'],1000)"
      ],
      "execution_count": 0,
      "outputs": []
    },
    {
      "cell_type": "markdown",
      "metadata": {
        "id": "z4bz0N1v1Xvb",
        "colab_type": "text"
      },
      "source": [
        "predição"
      ]
    },
    {
      "cell_type": "code",
      "metadata": {
        "id": "CNknckhA22fW",
        "colab_type": "code",
        "colab": {}
      },
      "source": [
        "def predicao (x,y,px):\n",
        "  bs= estimadores(x,y)\n",
        "  pred = bs[0]+bs[1]*px\n",
        "  return pred\n",
        "predicao (df['XT'],df['YT'],df['XT'])"
      ],
      "execution_count": 0,
      "outputs": []
    },
    {
      "cell_type": "markdown",
      "metadata": {
        "id": "_rxvNk4x5RQT",
        "colab_type": "text"
      },
      "source": [
        "Importando bibliotecas para analise mqo \n",
        "bibliotecas: matplotlib, scipy e statsmodels\n",
        "\n",
        "\n",
        "```\n",
        "import scipy as sp\n",
        "import matplotlib.pyplot as plt\n",
        "import statsmodels.formula.api as sm\n",
        "```\n",
        "\n",
        "\n",
        "\n",
        "\n"
      ]
    },
    {
      "cell_type": "code",
      "metadata": {
        "id": "1ck8-RMB5Za1",
        "colab_type": "code",
        "colab": {}
      },
      "source": [
        "import scipy as sp\n",
        "import matplotlib.pyplot as plt\n",
        "import statsmodels.formula.api as sm"
      ],
      "execution_count": 0,
      "outputs": []
    },
    {
      "cell_type": "code",
      "metadata": {
        "id": "UrRW2skg6Msh",
        "colab_type": "code",
        "colab": {}
      },
      "source": [
        "print(\"Estatísticas descritivas de Renda e consumo:\")\n",
        "df['XT'].describe(), df['YT'].describe()"
      ],
      "execution_count": 0,
      "outputs": []
    },
    {
      "cell_type": "markdown",
      "metadata": {
        "id": "qyJqAt2O8mID",
        "colab_type": "text"
      },
      "source": [
        "histograma"
      ]
    },
    {
      "cell_type": "code",
      "metadata": {
        "id": "oIyHdoyD7aow",
        "colab_type": "code",
        "colab": {}
      },
      "source": [
        "# Elabora um histograma\n",
        "plt.hist(df['XT'], color='red', bins=10)\n",
        "plt.title('Histograma da variável resposta')\n",
        "plt.show()"
      ],
      "execution_count": 0,
      "outputs": []
    },
    {
      "cell_type": "markdown",
      "metadata": {
        "id": "mYrtA1V58r-d",
        "colab_type": "text"
      },
      "source": [
        "Regressão e analise\n",
        "exemplo\n",
        "```\n",
        "# This is formatted as code\n",
        "reg = sm.ols(formula='y~x1+x2+x3+x4+categoria', data=dados).fit()\n",
        "print(reg.summary())\n",
        "```\n",
        "\n"
      ]
    },
    {
      "cell_type": "code",
      "metadata": {
        "id": "1N0FcQiM9V9q",
        "colab_type": "code",
        "colab": {}
      },
      "source": [
        "reg=sm.ols(formula='YT~XT',data=df).fit()\n",
        "print (reg.summary())"
      ],
      "execution_count": 0,
      "outputs": []
    },
    {
      "cell_type": "code",
      "metadata": {
        "id": "2QmyqLlTzAUF",
        "colab_type": "code",
        "colab": {}
      },
      "source": [
        "reg.predict()"
      ],
      "execution_count": 0,
      "outputs": []
    },
    {
      "cell_type": "markdown",
      "metadata": {
        "id": "qPrp82WZw0MN",
        "colab_type": "text"
      },
      "source": [
        "histograma dos resíduos de regreção\n",
        "\n",
        "modelo\n",
        "```\n",
        "# This is formatted as code\n",
        "y_hat = reg.predict()\n",
        "res = y - y_hat\n",
        "\n",
        "plt.hist(res, color='orange', bins=15)\n",
        "plt.title('Histograma dos resíduos da regressão')\n",
        "plt.show() \n",
        "```\n",
        "\n"
      ]
    },
    {
      "cell_type": "code",
      "metadata": {
        "id": "jfZjWJN1xFa0",
        "colab_type": "code",
        "colab": {}
      },
      "source": [
        "y_hat = reg.predict()\n",
        "res= df['YT'] - y_hat\n",
        "\n",
        "plt.hist(res, color='orange', bins=15)\n",
        "plt.title('Histograma dos resíduos da regressão')\n",
        "plt.show()"
      ],
      "execution_count": 0,
      "outputs": []
    },
    {
      "cell_type": "markdown",
      "metadata": {
        "id": "6yDDluEN09g4",
        "colab_type": "text"
      },
      "source": [
        "Plotando um grafico de dispersão\n",
        "\n",
        "modelo\n",
        "\n",
        "```\n",
        "# This is formatted as code\n",
        "plt.scatter(y=res, x=y_hat, color='green', s=50, alpha=.6)\n",
        "plt.hlines(y=0, xmin=-10, xmax=15, color='orange')\n",
        "plt.ylabel('$\\epsilon = y - \\hat{y}$ - Resíduos')\n",
        "plt.xlabel('$\\hat{y}$ ou $E(y)$ - Predito')\n",
        "plt.show()\n",
        "```\n",
        "\n"
      ]
    },
    {
      "cell_type": "code",
      "metadata": {
        "id": "rDpkuH2y0H8N",
        "colab_type": "code",
        "colab": {}
      },
      "source": [
        "y_hat = predicao (df['XT'],df['YT'],df['XT'])\n",
        "res= df['YT'] - y_hat\n",
        "\n",
        "plt.scatter(y=res, x=y_hat, color='green', s=50, alpha=.6)\n",
        "plt.hlines(y=0, xmin=-10, xmax=200, color='orange')\n",
        "plt.ylabel('$\\epsilon = y - \\hat{y}$ - Resíduos')\n",
        "plt.xlabel('$\\hat{y}$ ou $E(y)$ - Predito')\n",
        "plt.show()"
      ],
      "execution_count": 0,
      "outputs": []
    },
    {
      "cell_type": "markdown",
      "metadata": {
        "id": "TdKTSx7L2Lsm",
        "colab_type": "text"
      },
      "source": [
        "Coeficientes de regressão\n",
        "\n",
        "modelo\n",
        "\n",
        "\n",
        "```\n",
        "# This is formatted as code\n",
        "coefs = pd.DataFrame(reg.params)\n",
        "coefs.columns = ['Coeficientes']\n",
        "print(coefs)\n",
        "```\n",
        "\n"
      ]
    },
    {
      "cell_type": "code",
      "metadata": {
        "id": "FOWl0Mht213-",
        "colab_type": "code",
        "colab": {}
      },
      "source": [
        "coefs = pd.DataFrame(reg.params)\n",
        "coefs.columns = ['Coeficientes']\n",
        "print(coefs)"
      ],
      "execution_count": 0,
      "outputs": []
    },
    {
      "cell_type": "markdown",
      "metadata": {
        "id": "zOgp5GpA3N3b",
        "colab_type": "text"
      },
      "source": [
        "Traçando a reta de regressão:\n",
        "\n",
        "modelo\n",
        "\n",
        "\n",
        "```\n",
        "plt.scatter(y=dados['y'], x=dados['x1'], color='blue', s=50, alpha=.5)\n",
        "X_plot = sp.linspace(min(dados['x1']), max(dados['x1']), len(dados['x1']))\n",
        "plt.plot(X_plot, X_plot*reg.params[1] + reg.params[0], color='r')\n",
        "plt.ylim(-11,16)\n",
        "plt.xlim(-2.5,3)\n",
        "plt.title('Reta de regressão')\n",
        "plt.ylabel('$y$ - Variável Dependente')\n",
        "plt.xlabel('$x1$ - Preditor')\n",
        "plt.show()\n",
        "```\n",
        "\n"
      ]
    },
    {
      "cell_type": "code",
      "metadata": {
        "id": "5EoUF5eq3Y_p",
        "colab_type": "code",
        "colab": {}
      },
      "source": [
        "plt.scatter(y=df['YT'], x=df['XT'], color='blue', s=30, alpha=.6) #define a dispersão, cor, tamanho e transparencia\n",
        "'''\n",
        "A função linspace cria uma seqüência de números uniformemente espaçados entre os\n",
        " limites dados, opcionalmente incluindo o valor final (por default, esse é o \n",
        " comportamento). Esta função vai devolver um arranjo unidimensional que pode \n",
        " ser usado em qualquer operação que exija arranjos.\n",
        "\n",
        " '''\n",
        "X_plot = sp.linspace(min(df['XT']), max(df['XT']), len(df['XT'])) #função numpy que define intervalos entre o inicio e fim de x\n",
        "plt.plot(X_plot, X_plot*reg.params[1] + reg.params[0], color='r') #define a reta de regressão (X_plot=x e reta regressão = y)\n",
        "plt.ylim(0,200)\n",
        "plt.xlim(0,1200)\n",
        "plt.title('Reta de regressão')\n",
        "plt.ylabel('$y$ - Variável Dependente')\n",
        "plt.xlabel('$x1$ - Preditor')\n",
        "plt.show()\n",
        "print = (X_plot)"
      ],
      "execution_count": 0,
      "outputs": []
    },
    {
      "cell_type": "markdown",
      "metadata": {
        "id": "rJQlhCWn8_TV",
        "colab_type": "text"
      },
      "source": [
        "Fazendo o mesmo gráfico de dispersão mas com parametros encontrados pela minha função estimadores"
      ]
    },
    {
      "cell_type": "code",
      "metadata": {
        "id": "QDdm0yuD9NgI",
        "colab_type": "code",
        "colab": {}
      },
      "source": [
        "plt.scatter(y=df['YT'], x=df['XT'], color='blue', s=30, alpha=.6) #define a dispersão, cor, tamanho e transparencia\n",
        "'''\n",
        "A função linspace cria uma seqüência de números uniformemente espaçados entre os\n",
        " limites dados, opcionalmente incluindo o valor final (por default, esse é o \n",
        " comportamento). Esta função vai devolver um arranjo unidimensional que pode \n",
        " ser usado em qualquer operação que exija arranjos.\n",
        "\n",
        " '''\n",
        "X_plot = sp.linspace(min(df['XT']), max(df['XT']), len(df['XT'])) #função numpy que define intervalos entre o inicio e fim de x\n",
        "bs= estimadores(df['XT'],df['YT'])\n",
        "plt.plot(X_plot, X_plot*bs[1] + bs[0], color='r') #define a reta de regressão (X_plot=x e reta regressão = y)\n",
        "plt.ylim(40,200)\n",
        "plt.xlim(200,1200)\n",
        "plt.title('Reta de regressão')\n",
        "plt.ylabel('$y$ - Variável Dependente')\n",
        "plt.xlabel('$x1$ - Preditor')\n",
        "plt.show()"
      ],
      "execution_count": 0,
      "outputs": []
    }
  ]
}